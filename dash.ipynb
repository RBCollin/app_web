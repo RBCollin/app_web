{
 "cells": [
  {
   "cell_type": "code",
   "execution_count": 2,
   "metadata": {},
   "outputs": [],
   "source": [
    "import pandas as pd\n",
    "import numpy as np"
   ]
  },
  {
   "cell_type": "markdown",
   "metadata": {},
   "source": [
    "numero_embaladeiras = pd.DataFrame(list(range(0,200)), columns = ['Qntd_embaladeiras'] )\n",
    "numero_corte_talo = pd.DataFrame(list(range(0,200)), columns = ['Qntd_talo'])\n",
    "numero_palet = pd.DataFrame(list(range(0,200)), columns = ['Qntd_paletizadores'])\n",
    "qtde_caixotes = pd.DataFrame(list(range(0,6000)), columns = ['Caixotes'])"
   ]
  },
  {
   "cell_type": "markdown",
   "metadata": {},
   "source": [
    "produtividade = float(input('Produtividade'))\n",
    "produtividade2 = produtividade * 0 \n",
    "produtividade2"
   ]
  },
  {
   "cell_type": "markdown",
   "metadata": {},
   "source": [
    "def calculo_Horas():\n",
    "    numero_embaladeiras = float(input(\"Embaladeiras\"))\n",
    "    numero_corte_talo = float(input(\"Corte de talo\"))\n",
    "    numero_palet = float(input(\"Número de paletizadores\"))\n",
    "    qtde_caixotes = float(input(\"Caixotes\"))\n",
    "    produtividade = float(input('Produtividade'))\n",
    "    produtividade2 = produtividade * 4200\n",
    "    Frutos_caixotes = float(input('frutos/caixotes'))\n",
    "   \n",
    "    Horas = 0\n",
    "    #soma = (numero_embaladeiras + numero_corte_talo + numero_palet + qtde_caixotes + produtividade2)\n",
    "\n",
    "    \n",
    "    ritmo_embaladeiras\n",
    "\n",
    "\n",
    "\n",
    "    Horas = (((qtde_caixotes * Frutos_caixotes)/ produtividade)/produtividade2)*(1/24)\n",
    "\n",
    "    return Horas\n"
   ]
  },
  {
   "cell_type": "markdown",
   "metadata": {},
   "source": [
    "calculo_Horas()"
   ]
  },
  {
   "cell_type": "markdown",
   "metadata": {},
   "source": [
    "## New Method"
   ]
  },
  {
   "cell_type": "code",
   "execution_count": 149,
   "metadata": {},
   "outputs": [],
   "source": [
    "dataset = pd.read_excel('Planilha Denilton.xlsx')"
   ]
  },
  {
   "cell_type": "code",
   "execution_count": 150,
   "metadata": {},
   "outputs": [
    {
     "data": {
      "text/html": [
       "<div>\n",
       "<style scoped>\n",
       "    .dataframe tbody tr th:only-of-type {\n",
       "        vertical-align: middle;\n",
       "    }\n",
       "\n",
       "    .dataframe tbody tr th {\n",
       "        vertical-align: top;\n",
       "    }\n",
       "\n",
       "    .dataframe thead th {\n",
       "        text-align: right;\n",
       "    }\n",
       "</style>\n",
       "<table border=\"1\" class=\"dataframe\">\n",
       "  <thead>\n",
       "    <tr style=\"text-align: right;\">\n",
       "      <th></th>\n",
       "      <th>Fruto</th>\n",
       "      <th>Calibre</th>\n",
       "      <th>Peso</th>\n",
       "      <th>Qualidade</th>\n",
       "    </tr>\n",
       "  </thead>\n",
       "  <tbody>\n",
       "    <tr>\n",
       "      <th>0</th>\n",
       "      <td>1</td>\n",
       "      <td>6</td>\n",
       "      <td>680</td>\n",
       "      <td>1</td>\n",
       "    </tr>\n",
       "    <tr>\n",
       "      <th>1</th>\n",
       "      <td>2</td>\n",
       "      <td>8</td>\n",
       "      <td>520</td>\n",
       "      <td>1</td>\n",
       "    </tr>\n",
       "    <tr>\n",
       "      <th>2</th>\n",
       "      <td>3</td>\n",
       "      <td>7</td>\n",
       "      <td>560</td>\n",
       "      <td>3</td>\n",
       "    </tr>\n",
       "    <tr>\n",
       "      <th>3</th>\n",
       "      <td>4</td>\n",
       "      <td>7</td>\n",
       "      <td>570</td>\n",
       "      <td>1</td>\n",
       "    </tr>\n",
       "    <tr>\n",
       "      <th>4</th>\n",
       "      <td>5</td>\n",
       "      <td>8</td>\n",
       "      <td>535</td>\n",
       "      <td>1</td>\n",
       "    </tr>\n",
       "    <tr>\n",
       "      <th>...</th>\n",
       "      <td>...</td>\n",
       "      <td>...</td>\n",
       "      <td>...</td>\n",
       "      <td>...</td>\n",
       "    </tr>\n",
       "    <tr>\n",
       "      <th>145</th>\n",
       "      <td>146</td>\n",
       "      <td>9</td>\n",
       "      <td>460</td>\n",
       "      <td>1</td>\n",
       "    </tr>\n",
       "    <tr>\n",
       "      <th>146</th>\n",
       "      <td>147</td>\n",
       "      <td>7</td>\n",
       "      <td>570</td>\n",
       "      <td>1</td>\n",
       "    </tr>\n",
       "    <tr>\n",
       "      <th>147</th>\n",
       "      <td>148</td>\n",
       "      <td>8</td>\n",
       "      <td>555</td>\n",
       "      <td>4</td>\n",
       "    </tr>\n",
       "    <tr>\n",
       "      <th>148</th>\n",
       "      <td>149</td>\n",
       "      <td>9</td>\n",
       "      <td>445</td>\n",
       "      <td>1</td>\n",
       "    </tr>\n",
       "    <tr>\n",
       "      <th>149</th>\n",
       "      <td>150</td>\n",
       "      <td>10</td>\n",
       "      <td>415</td>\n",
       "      <td>1</td>\n",
       "    </tr>\n",
       "  </tbody>\n",
       "</table>\n",
       "<p>150 rows × 4 columns</p>\n",
       "</div>"
      ],
      "text/plain": [
       "     Fruto Calibre  Peso  Qualidade\n",
       "0        1       6   680          1\n",
       "1        2       8   520          1\n",
       "2        3       7   560          3\n",
       "3        4       7   570          1\n",
       "4        5       8   535          1\n",
       "..     ...     ...   ...        ...\n",
       "145    146       9   460          1\n",
       "146    147       7   570          1\n",
       "147    148       8   555          4\n",
       "148    149       9   445          1\n",
       "149    150      10   415          1\n",
       "\n",
       "[150 rows x 4 columns]"
      ]
     },
     "execution_count": 150,
     "metadata": {},
     "output_type": "execute_result"
    }
   ],
   "source": [
    "dataset"
   ]
  },
  {
   "cell_type": "code",
   "execution_count": 151,
   "metadata": {},
   "outputs": [],
   "source": [
    "filtro = dataset['Calibre'] != 'Pequeno'\n",
    "dataset = dataset[filtro]"
   ]
  },
  {
   "cell_type": "code",
   "execution_count": 152,
   "metadata": {},
   "outputs": [
    {
     "name": "stderr",
     "output_type": "stream",
     "text": [
      "C:\\Users\\BERNAR~1.COL\\AppData\\Local\\Temp/ipykernel_4640/1862642742.py:1: SettingWithCopyWarning: \n",
      "A value is trying to be set on a copy of a slice from a DataFrame.\n",
      "Try using .loc[row_indexer,col_indexer] = value instead\n",
      "\n",
      "See the caveats in the documentation: https://pandas.pydata.org/pandas-docs/stable/user_guide/indexing.html#returning-a-view-versus-a-copy\n",
      "  dataset['Calibre'] = dataset['Calibre'].astype(int)\n"
     ]
    }
   ],
   "source": [
    "dataset['Calibre'] = dataset['Calibre'].astype(int)"
   ]
  },
  {
   "cell_type": "code",
   "execution_count": 154,
   "metadata": {},
   "outputs": [
    {
     "data": {
      "text/html": [
       "<div>\n",
       "<style scoped>\n",
       "    .dataframe tbody tr th:only-of-type {\n",
       "        vertical-align: middle;\n",
       "    }\n",
       "\n",
       "    .dataframe tbody tr th {\n",
       "        vertical-align: top;\n",
       "    }\n",
       "\n",
       "    .dataframe thead th {\n",
       "        text-align: right;\n",
       "    }\n",
       "</style>\n",
       "<table border=\"1\" class=\"dataframe\">\n",
       "  <thead>\n",
       "    <tr style=\"text-align: right;\">\n",
       "      <th></th>\n",
       "      <th>Calibre</th>\n",
       "      <th>Percentual</th>\n",
       "    </tr>\n",
       "  </thead>\n",
       "  <tbody>\n",
       "    <tr>\n",
       "      <th>6</th>\n",
       "      <td>5</td>\n",
       "      <td>4.026846</td>\n",
       "    </tr>\n",
       "    <tr>\n",
       "      <th>2</th>\n",
       "      <td>6</td>\n",
       "      <td>16.778523</td>\n",
       "    </tr>\n",
       "    <tr>\n",
       "      <th>1</th>\n",
       "      <td>7</td>\n",
       "      <td>18.120805</td>\n",
       "    </tr>\n",
       "    <tr>\n",
       "      <th>0</th>\n",
       "      <td>8</td>\n",
       "      <td>26.845638</td>\n",
       "    </tr>\n",
       "    <tr>\n",
       "      <th>4</th>\n",
       "      <td>9</td>\n",
       "      <td>12.080537</td>\n",
       "    </tr>\n",
       "    <tr>\n",
       "      <th>3</th>\n",
       "      <td>10</td>\n",
       "      <td>14.093960</td>\n",
       "    </tr>\n",
       "    <tr>\n",
       "      <th>5</th>\n",
       "      <td>12</td>\n",
       "      <td>8.053691</td>\n",
       "    </tr>\n",
       "  </tbody>\n",
       "</table>\n",
       "</div>"
      ],
      "text/plain": [
       "   Calibre  Percentual\n",
       "6        5    4.026846\n",
       "2        6   16.778523\n",
       "1        7   18.120805\n",
       "0        8   26.845638\n",
       "4        9   12.080537\n",
       "3       10   14.093960\n",
       "5       12    8.053691"
      ]
     },
     "execution_count": 154,
     "metadata": {},
     "output_type": "execute_result"
    }
   ],
   "source": [
    "a = dataset['Calibre'].value_counts() / dataset['Calibre'].count()\n",
    "b = pd.DataFrame(a)\n",
    "b = b.reset_index()\n",
    "b.columns = ['Calibre', 'Percentual']\n",
    "b['Percentual'] = b['Percentual']*100\n",
    "b = b.sort_values('Calibre')\n",
    "b"
   ]
  },
  {
   "cell_type": "code",
   "execution_count": 155,
   "metadata": {},
   "outputs": [],
   "source": [
    "filtro2 = dataset['Qualidade'] != 4\n",
    "dataset_2 = dataset[filtro2]"
   ]
  },
  {
   "cell_type": "code",
   "execution_count": 157,
   "metadata": {},
   "outputs": [
    {
     "data": {
      "text/html": [
       "<div>\n",
       "<style scoped>\n",
       "    .dataframe tbody tr th:only-of-type {\n",
       "        vertical-align: middle;\n",
       "    }\n",
       "\n",
       "    .dataframe tbody tr th {\n",
       "        vertical-align: top;\n",
       "    }\n",
       "\n",
       "    .dataframe thead th {\n",
       "        text-align: right;\n",
       "    }\n",
       "</style>\n",
       "<table border=\"1\" class=\"dataframe\">\n",
       "  <thead>\n",
       "    <tr style=\"text-align: right;\">\n",
       "      <th></th>\n",
       "      <th>Calibre</th>\n",
       "      <th>Qtde_mangas</th>\n",
       "    </tr>\n",
       "  </thead>\n",
       "  <tbody>\n",
       "    <tr>\n",
       "      <th>0</th>\n",
       "      <td>8</td>\n",
       "      <td>39</td>\n",
       "    </tr>\n",
       "    <tr>\n",
       "      <th>1</th>\n",
       "      <td>7</td>\n",
       "      <td>27</td>\n",
       "    </tr>\n",
       "    <tr>\n",
       "      <th>2</th>\n",
       "      <td>6</td>\n",
       "      <td>23</td>\n",
       "    </tr>\n",
       "    <tr>\n",
       "      <th>3</th>\n",
       "      <td>10</td>\n",
       "      <td>20</td>\n",
       "    </tr>\n",
       "    <tr>\n",
       "      <th>4</th>\n",
       "      <td>9</td>\n",
       "      <td>18</td>\n",
       "    </tr>\n",
       "    <tr>\n",
       "      <th>5</th>\n",
       "      <td>12</td>\n",
       "      <td>12</td>\n",
       "    </tr>\n",
       "    <tr>\n",
       "      <th>6</th>\n",
       "      <td>5</td>\n",
       "      <td>6</td>\n",
       "    </tr>\n",
       "  </tbody>\n",
       "</table>\n",
       "</div>"
      ],
      "text/plain": [
       "   Calibre  Qtde_mangas\n",
       "0        8           39\n",
       "1        7           27\n",
       "2        6           23\n",
       "3       10           20\n",
       "4        9           18\n",
       "5       12           12\n",
       "6        5            6"
      ]
     },
     "execution_count": 157,
     "metadata": {},
     "output_type": "execute_result"
    }
   ],
   "source": [
    "aa = pd.DataFrame(dataset_2['Calibre'].value_counts())\n",
    "aa = aa.reset_index()\n",
    "aa.columns = ['Calibre','Qtde_mangas']"
   ]
  },
  {
   "cell_type": "code",
   "execution_count": 158,
   "metadata": {},
   "outputs": [],
   "source": [
    "b['Caixas'] = aa['Qtde_mangas'] / aa['Calibre']"
   ]
  },
  {
   "cell_type": "code",
   "execution_count": 159,
   "metadata": {},
   "outputs": [],
   "source": [
    "def ritmo(b):\n",
    "    if b['Calibre'] == 5:\n",
    "        return 229\n",
    "    elif b['Calibre'] == 6:\n",
    "        return 169\n",
    "    elif b['Calibre'] == 7:\n",
    "        return 174\n",
    "    elif b['Calibre'] == 8:\n",
    "        return 191\n",
    "    elif b['Calibre'] == 9:\n",
    "        return 157\n",
    "    elif b['Calibre'] == 10:\n",
    "        return 139\n",
    "    elif b['Calibre'] == 12:\n",
    "        return 149\n",
    "    elif b['Calibre'] == 14:\n",
    "        return 85\n",
    "    else:\n",
    "        return 'NADA'\n",
    "b['Ritmo'] = b.apply(ritmo, axis = 1)\n",
    "\n"
   ]
  },
  {
   "cell_type": "code",
   "execution_count": 161,
   "metadata": {},
   "outputs": [
    {
     "data": {
      "text/plain": [
       "504.0"
      ]
     },
     "execution_count": 161,
     "metadata": {},
     "output_type": "execute_result"
    }
   ],
   "source": [
    "caixotes = float(input('Qntd_caixotes:'))\n",
    "caixotes"
   ]
  },
  {
   "cell_type": "code",
   "execution_count": 162,
   "metadata": {},
   "outputs": [
    {
     "data": {
      "text/plain": [
       "33.0"
      ]
     },
     "execution_count": 162,
     "metadata": {},
     "output_type": "execute_result"
    }
   ],
   "source": [
    "avg_frutos_caixotes = float(input('Frutos/caixotes:'))\n",
    "avg_frutos_caixotes"
   ]
  },
  {
   "cell_type": "code",
   "execution_count": 163,
   "metadata": {},
   "outputs": [
    {
     "data": {
      "text/plain": [
       "Calibre\n",
       "5      5080\n",
       "6     17355\n",
       "7     15815\n",
       "8     20784\n",
       "9      8220\n",
       "10     8685\n",
       "12     4295\n",
       "Name: Peso, dtype: int64"
      ]
     },
     "execution_count": 163,
     "metadata": {},
     "output_type": "execute_result"
    }
   ],
   "source": [
    "#dataset.groupby('Calibre').Peso.sum()"
   ]
  },
  {
   "cell_type": "code",
   "execution_count": 164,
   "metadata": {},
   "outputs": [],
   "source": [
    "b['Caixas_total'] = ((caixotes * avg_frutos_caixotes * b['Percentual']) / b['Calibre']) / 100"
   ]
  },
  {
   "cell_type": "code",
   "execution_count": 168,
   "metadata": {},
   "outputs": [
    {
     "data": {
      "text/plain": [
       "0.75"
      ]
     },
     "execution_count": 168,
     "metadata": {},
     "output_type": "execute_result"
    }
   ],
   "source": [
    "produtividade_embaladeira = float(input('Prod_embaladeira:'))\n",
    "produtividade_embaladeira"
   ]
  },
  {
   "cell_type": "code",
   "execution_count": 170,
   "metadata": {},
   "outputs": [],
   "source": [
    "b['Horas_4kg'] = (b['Caixas_total'] / b['Ritmo']) / produtividade_embaladeira"
   ]
  },
  {
   "cell_type": "code",
   "execution_count": 172,
   "metadata": {},
   "outputs": [],
   "source": [
    "## As diferenças se dão em conta que eu retirei o refugo e mangas de calibre não definido"
   ]
  },
  {
   "cell_type": "markdown",
   "metadata": {},
   "source": [
    "def calculo_Horas():\n",
    "    numero_embaladeiras = float(input(\"Embaladeiras\"))\n",
    "    numero_corte_talo = float(input(\"Corte de talo\"))\n",
    "    numero_palet = float(input(\"Número de paletizadores\"))\n",
    "    qtde_caixotes = float(input(\"Caixotes\"))\n",
    "    produtividade = float(input('Produtividade'))\n",
    "    produtividade2 = produtividade * 4200\n",
    "    Frutos_caixotes = float(input('frutos/caixotes'))\n",
    "   \n",
    "    Horas = 0\n",
    "    #soma = (numero_embaladeiras + numero_corte_talo + numero_palet + qtde_caixotes + produtividade2)\n",
    "\n",
    "    \n",
    "    ritmo_embaladeiras\n",
    "\n",
    "\n",
    "\n",
    "    Horas = (((qtde_caixotes * Frutos_caixotes)/ produtividade)/produtividade2)*(1/24)\n",
    "\n",
    "    return Horas\n"
   ]
  },
  {
   "cell_type": "code",
   "execution_count": 175,
   "metadata": {},
   "outputs": [
    {
     "data": {
      "text/plain": [
       "0.8"
      ]
     },
     "execution_count": 175,
     "metadata": {},
     "output_type": "execute_result"
    }
   ],
   "source": [
    "produtividade_talo = float(input('Prod_talo:'))\n",
    "produtividade_talo"
   ]
  },
  {
   "cell_type": "code",
   "execution_count": 273,
   "metadata": {},
   "outputs": [
    {
     "data": {
      "text/plain": [
       "2.0"
      ]
     },
     "execution_count": 273,
     "metadata": {},
     "output_type": "execute_result"
    }
   ],
   "source": [
    "corte_talo = float(input('Pessoas no corte de talo:'))\n",
    "corte_talo"
   ]
  },
  {
   "cell_type": "code",
   "execution_count": 274,
   "metadata": {},
   "outputs": [
    {
     "data": {
      "text/plain": [
       "20.0"
      ]
     },
     "execution_count": 274,
     "metadata": {},
     "output_type": "execute_result"
    }
   ],
   "source": [
    "embaladeira = float(input('Embaladeiras:'))\n",
    "embaladeira"
   ]
  },
  {
   "cell_type": "code",
   "execution_count": 275,
   "metadata": {},
   "outputs": [
    {
     "data": {
      "text/plain": [
       "0.103125"
      ]
     },
     "execution_count": 275,
     "metadata": {},
     "output_type": "execute_result"
    }
   ],
   "source": [
    "ritmo_talo = (((caixotes * avg_frutos_caixotes) / corte_talo) / (4200 * produtividade_talo)) * (1/24)\n",
    "ritmo_talo"
   ]
  },
  {
   "cell_type": "code",
   "execution_count": 276,
   "metadata": {},
   "outputs": [
    {
     "data": {
      "text/plain": [
       "0.034975161721898435"
      ]
     },
     "execution_count": 276,
     "metadata": {},
     "output_type": "execute_result"
    }
   ],
   "source": [
    "ritmo_embaladeira = (b['Horas_4kg'].sum()  / embaladeira) * (1/24)\n",
    "ritmo_embaladeira"
   ]
  },
  {
   "cell_type": "code",
   "execution_count": 277,
   "metadata": {},
   "outputs": [
    {
     "name": "stdout",
     "output_type": "stream",
     "text": [
      "\n",
      "\n",
      "Atende, mas emabalderias ficam ociosas em: 0.06814983827810156\n",
      "\n",
      "\n",
      "O número de caixotes/hora é de: 204.0\n"
     ]
    }
   ],
   "source": [
    "def atende(ritmo_talo, ritmo_embaladeira):\n",
    "    #ritmo_talo = (((caixotes * avg_frutos_caixotes) / corte_talo) / (4200 * produtividade_talo)) * (1/24)\n",
    "    #ritmo_embaladeira = (b['Horas_4kg'].sum()  / embaladeira) * (1/24)\n",
    "    if ritmo_talo < ritmo_embaladeira:\n",
    "        return print('Não atende:','Ritmo Embaladeira',round(ritmo_embaladeira,4),'>','Ritmo Talo', round(ritmo_talo,4))\n",
    "\n",
    "    elif ritmo_talo > (ritmo_embaladeira * 1.05):\n",
    "        return print('Atende, mas emabalderias ficam ociosas em:', (ritmo_talo - ritmo_embaladeira))\n",
    "\n",
    "    else:\n",
    "        return print('Atende sem gargalo/Ociosidade:','Ritmo Embaladeira',round(ritmo_embaladeira, 4),'<','Ritmo Talo', round(ritmo_talo,4) )\n",
    "\n",
    "#####################################################################################################################\n",
    "print('\\n')\n",
    "atende(ritmo_talo,ritmo_embaladeira)\n",
    "print('\\n')\n",
    "print('O número de caixotes/hora é de:', round((caixotes*0.0416667)/ritmo_talo,0))"
   ]
  },
  {
   "cell_type": "code",
   "execution_count": 299,
   "metadata": {},
   "outputs": [
    {
     "name": "stdout",
     "output_type": "stream",
     "text": [
      "\n",
      "\n",
      "Não atende: \n",
      " Ritmo Embaladeira: 0.0014 > Ritmo Talo: 0.0004 \n",
      " A diferença é de: 0.001\n",
      "\n",
      "\n",
      "O número de caixotes/hora das embaladeiras é de: 2036.0\n",
      "O número de caixotes/hora no corte de talo é de: 600.0\n",
      "\n",
      "\n",
      "Capacidade de Toneladas/Horas é de: 10.41\n"
     ]
    }
   ],
   "source": [
    "import pandas as pd\n",
    "import numpy as np\n",
    "\n",
    "#####################################################################################################################\n",
    "\n",
    "dataset = pd.read_excel('Planilha Denilton.xlsx')\n",
    "\n",
    "filtro = dataset['Calibre'] != 'Pequeno'\n",
    "dataset = dataset[filtro]\n",
    "\n",
    "dataset['Calibre'] = dataset['Calibre'].astype(int)\n",
    "\n",
    "#####################################################################################################################\n",
    "\n",
    "a = dataset['Calibre'].value_counts() / dataset['Calibre'].count()\n",
    "b = pd.DataFrame(a)\n",
    "b = b.reset_index()\n",
    "b.columns = ['Calibre', 'Percentual']\n",
    "b['Percentual'] = b['Percentual']*100\n",
    "b = b.sort_values('Calibre')\n",
    "\n",
    "#####################################################################################################################\n",
    "\n",
    "filtro2 = dataset['Qualidade'] != 4\n",
    "dataset_2 = dataset[filtro2]\n",
    "aa = pd.DataFrame(dataset_2['Calibre'].value_counts())\n",
    "aa = aa.reset_index()\n",
    "aa.columns = ['Calibre','Qtde_mangas']\n",
    "b['Caixas'] = aa['Qtde_mangas'] / aa['Calibre']\n",
    "\n",
    "#####################################################################################################################\n",
    "def ritmo(b):\n",
    "    if b['Calibre'] == 5:\n",
    "        return 229\n",
    "    elif b['Calibre'] == 6:\n",
    "        return 169\n",
    "    elif b['Calibre'] == 7:\n",
    "        return 174\n",
    "    elif b['Calibre'] == 8:\n",
    "        return 191\n",
    "    elif b['Calibre'] == 9:\n",
    "        return 157\n",
    "    elif b['Calibre'] == 10:\n",
    "        return 139\n",
    "    elif b['Calibre'] == 12:\n",
    "        return 149\n",
    "    elif b['Calibre'] == 14:\n",
    "        return 85\n",
    "    else:\n",
    "        return 'NADA'\n",
    "b['Ritmo'] = b.apply(ritmo, axis = 1)\n",
    "\n",
    "#####################################################################################################################\n",
    "\n",
    "caixotes = float(input('Qntd_caixotes:'))\n",
    "caixotes\n",
    "\n",
    "#####################################################################################################################\n",
    "\n",
    "avg_frutos_caixotes = 33\n",
    "\n",
    "\n",
    "#####################################################################################################################\n",
    "\n",
    "b['Caixas_total'] = ((caixotes * avg_frutos_caixotes * b['Percentual']) / b['Calibre']) / 100\n",
    "\n",
    "#####################################################################################################################\n",
    "\n",
    "produtividade_embaladeira = 0.75\n",
    "\n",
    "#####################################################################################################################\n",
    "\n",
    "b['Horas_4kg'] = (b['Caixas_total'] / b['Ritmo']) / produtividade_embaladeira\n",
    "\n",
    "#####################################################################################################################\n",
    "\n",
    "produtividade_talo = 0.80\n",
    "\n",
    "#####################################################################################################################\n",
    "\n",
    "corte_talo = float(input('Corte talo:'))\n",
    "corte_talo\n",
    "\n",
    "#####################################################################################################################\n",
    "\n",
    "embaladeira = float(input('Embaladeira:'))\n",
    "embaladeira\n",
    "\n",
    "#####################################################################################################################\n",
    "\n",
    "ritmo_talo = (((caixotes * avg_frutos_caixotes) / corte_talo) / (4200 * produtividade_talo)) * (1/24)\n",
    "ritmo_talo\n",
    "\n",
    "#####################################################################################################################\n",
    "\n",
    "ritmo_embaladeira = (b['Horas_4kg'].sum()  / embaladeira) * (1/24)\n",
    "ritmo_embaladeira\n",
    "\n",
    "#####################################################################################################################\n",
    "def atende(ritmo_talo, ritmo_embaladeira):\n",
    "\n",
    "\tif ritmo_talo < ritmo_embaladeira:\n",
    "\t\tprint('Não atende:','\\n','Ritmo Embaladeira:',round(ritmo_embaladeira,4),'>','Ritmo Talo:', round(ritmo_talo,4),\n",
    "\t\t'\\n','A diferença é de:' ,round((ritmo_embaladeira - ritmo_talo),4))\n",
    "\n",
    "\telif ritmo_talo > ritmo_embaladeira:\n",
    "\t\tprint('Não atende:','\\n','Ritmo Embaladeira:',round(ritmo_embaladeira,4),'<','Ritmo Talo:', round(ritmo_talo,4),\n",
    "\t\t'\\n','A diferença é de:' ,round((ritmo_talo - ritmo_embaladeira),4))\n",
    "\telse:\n",
    "\t\treturn print('Atende sem muito Gargalo/Ociosidade:','Ritmo Embaladeira',round(ritmo_embaladeira, 4),'=','Ritmo Talo', round(ritmo_talo,4))\n",
    "\n",
    "#####################################################################################################################\n",
    "\n",
    "print('\\n')\n",
    "atende(ritmo_talo,ritmo_embaladeira)\n",
    "print('\\n')\n",
    "print('O número de caixotes/hora das embaladeiras é de:', round((caixotes*0.0416667)/ritmo_talo,0))\n",
    "\n",
    "print('O número de caixotes/hora no corte de talo é de:', round((caixotes*0.0416667)/ritmo_embaladeira,0))\n",
    "print('\\n')\n",
    "print('Capacidade de Toneladas/Horas é de:', round(((b['Caixas_total'].sum()*4.05)/1000)/(b['Horas_4kg'].sum()/embaladeira),2))\n"
   ]
  },
  {
   "cell_type": "code",
   "execution_count": 303,
   "metadata": {},
   "outputs": [],
   "source": [
    "## CRIANDO DASH OU APP WEB"
   ]
  },
  {
   "cell_type": "code",
   "execution_count": 304,
   "metadata": {},
   "outputs": [
    {
     "data": {
      "text/html": [
       "<div>\n",
       "<style scoped>\n",
       "    .dataframe tbody tr th:only-of-type {\n",
       "        vertical-align: middle;\n",
       "    }\n",
       "\n",
       "    .dataframe tbody tr th {\n",
       "        vertical-align: top;\n",
       "    }\n",
       "\n",
       "    .dataframe thead th {\n",
       "        text-align: right;\n",
       "    }\n",
       "</style>\n",
       "<table border=\"1\" class=\"dataframe\">\n",
       "  <thead>\n",
       "    <tr style=\"text-align: right;\">\n",
       "      <th></th>\n",
       "      <th>Calibre</th>\n",
       "      <th>Percentual</th>\n",
       "      <th>Caixas</th>\n",
       "      <th>Ritmo</th>\n",
       "      <th>Caixas_total</th>\n",
       "      <th>Horas_4kg</th>\n",
       "    </tr>\n",
       "  </thead>\n",
       "  <tbody>\n",
       "    <tr>\n",
       "      <th>6</th>\n",
       "      <td>5</td>\n",
       "      <td>4.026846</td>\n",
       "      <td>1.200000</td>\n",
       "      <td>229</td>\n",
       "      <td>5.315436</td>\n",
       "      <td>0.030949</td>\n",
       "    </tr>\n",
       "    <tr>\n",
       "      <th>2</th>\n",
       "      <td>6</td>\n",
       "      <td>16.778523</td>\n",
       "      <td>3.833333</td>\n",
       "      <td>169</td>\n",
       "      <td>18.456376</td>\n",
       "      <td>0.145612</td>\n",
       "    </tr>\n",
       "    <tr>\n",
       "      <th>1</th>\n",
       "      <td>7</td>\n",
       "      <td>18.120805</td>\n",
       "      <td>3.857143</td>\n",
       "      <td>174</td>\n",
       "      <td>17.085331</td>\n",
       "      <td>0.130922</td>\n",
       "    </tr>\n",
       "    <tr>\n",
       "      <th>0</th>\n",
       "      <td>8</td>\n",
       "      <td>26.845638</td>\n",
       "      <td>4.875000</td>\n",
       "      <td>191</td>\n",
       "      <td>22.147651</td>\n",
       "      <td>0.154608</td>\n",
       "    </tr>\n",
       "    <tr>\n",
       "      <th>4</th>\n",
       "      <td>9</td>\n",
       "      <td>12.080537</td>\n",
       "      <td>2.000000</td>\n",
       "      <td>157</td>\n",
       "      <td>8.859060</td>\n",
       "      <td>0.075236</td>\n",
       "    </tr>\n",
       "    <tr>\n",
       "      <th>3</th>\n",
       "      <td>10</td>\n",
       "      <td>14.093960</td>\n",
       "      <td>2.000000</td>\n",
       "      <td>139</td>\n",
       "      <td>9.302013</td>\n",
       "      <td>0.089228</td>\n",
       "    </tr>\n",
       "    <tr>\n",
       "      <th>5</th>\n",
       "      <td>12</td>\n",
       "      <td>8.053691</td>\n",
       "      <td>1.000000</td>\n",
       "      <td>149</td>\n",
       "      <td>4.429530</td>\n",
       "      <td>0.039638</td>\n",
       "    </tr>\n",
       "  </tbody>\n",
       "</table>\n",
       "</div>"
      ],
      "text/plain": [
       "   Calibre  Percentual    Caixas  Ritmo  Caixas_total  Horas_4kg\n",
       "6        5    4.026846  1.200000    229      5.315436   0.030949\n",
       "2        6   16.778523  3.833333    169     18.456376   0.145612\n",
       "1        7   18.120805  3.857143    174     17.085331   0.130922\n",
       "0        8   26.845638  4.875000    191     22.147651   0.154608\n",
       "4        9   12.080537  2.000000    157      8.859060   0.075236\n",
       "3       10   14.093960  2.000000    139      9.302013   0.089228\n",
       "5       12    8.053691  1.000000    149      4.429530   0.039638"
      ]
     },
     "execution_count": 304,
     "metadata": {},
     "output_type": "execute_result"
    }
   ],
   "source": [
    "b"
   ]
  },
  {
   "cell_type": "code",
   "execution_count": 306,
   "metadata": {},
   "outputs": [],
   "source": [
    "b['Calibre Name'] = b['Calibre'].astype(str)"
   ]
  },
  {
   "cell_type": "code",
   "execution_count": 314,
   "metadata": {},
   "outputs": [
    {
     "data": {
      "application/vnd.plotly.v1+json": {
       "config": {
        "plotlyServerURL": "https://plot.ly"
       },
       "data": [
        {
         "alignmentgroup": "True",
         "bingroup": "x",
         "histfunc": "sum",
         "hovertemplate": "Calibre=5<br>Calibre Name=%{x}<br>sum of Percentual=%{y}<extra></extra>",
         "legendgroup": "5",
         "marker": {
          "color": "#636efa",
          "pattern": {
           "shape": ""
          }
         },
         "name": "5",
         "offsetgroup": "5",
         "orientation": "v",
         "showlegend": true,
         "type": "histogram",
         "x": [
          "5"
         ],
         "xaxis": "x",
         "y": [
          4.026845637583892
         ],
         "yaxis": "y"
        },
        {
         "alignmentgroup": "True",
         "bingroup": "x",
         "histfunc": "sum",
         "hovertemplate": "Calibre=6<br>Calibre Name=%{x}<br>sum of Percentual=%{y}<extra></extra>",
         "legendgroup": "6",
         "marker": {
          "color": "#EF553B",
          "pattern": {
           "shape": ""
          }
         },
         "name": "6",
         "offsetgroup": "6",
         "orientation": "v",
         "showlegend": true,
         "type": "histogram",
         "x": [
          "6"
         ],
         "xaxis": "x",
         "y": [
          16.778523489932887
         ],
         "yaxis": "y"
        },
        {
         "alignmentgroup": "True",
         "bingroup": "x",
         "histfunc": "sum",
         "hovertemplate": "Calibre=7<br>Calibre Name=%{x}<br>sum of Percentual=%{y}<extra></extra>",
         "legendgroup": "7",
         "marker": {
          "color": "#00cc96",
          "pattern": {
           "shape": ""
          }
         },
         "name": "7",
         "offsetgroup": "7",
         "orientation": "v",
         "showlegend": true,
         "type": "histogram",
         "x": [
          "7"
         ],
         "xaxis": "x",
         "y": [
          18.120805369127517
         ],
         "yaxis": "y"
        },
        {
         "alignmentgroup": "True",
         "bingroup": "x",
         "histfunc": "sum",
         "hovertemplate": "Calibre=8<br>Calibre Name=%{x}<br>sum of Percentual=%{y}<extra></extra>",
         "legendgroup": "8",
         "marker": {
          "color": "#ab63fa",
          "pattern": {
           "shape": ""
          }
         },
         "name": "8",
         "offsetgroup": "8",
         "orientation": "v",
         "showlegend": true,
         "type": "histogram",
         "x": [
          "8"
         ],
         "xaxis": "x",
         "y": [
          26.845637583892618
         ],
         "yaxis": "y"
        },
        {
         "alignmentgroup": "True",
         "bingroup": "x",
         "histfunc": "sum",
         "hovertemplate": "Calibre=9<br>Calibre Name=%{x}<br>sum of Percentual=%{y}<extra></extra>",
         "legendgroup": "9",
         "marker": {
          "color": "#FFA15A",
          "pattern": {
           "shape": ""
          }
         },
         "name": "9",
         "offsetgroup": "9",
         "orientation": "v",
         "showlegend": true,
         "type": "histogram",
         "x": [
          "9"
         ],
         "xaxis": "x",
         "y": [
          12.080536912751679
         ],
         "yaxis": "y"
        },
        {
         "alignmentgroup": "True",
         "bingroup": "x",
         "histfunc": "sum",
         "hovertemplate": "Calibre=10<br>Calibre Name=%{x}<br>sum of Percentual=%{y}<extra></extra>",
         "legendgroup": "10",
         "marker": {
          "color": "#19d3f3",
          "pattern": {
           "shape": ""
          }
         },
         "name": "10",
         "offsetgroup": "10",
         "orientation": "v",
         "showlegend": true,
         "type": "histogram",
         "x": [
          "10"
         ],
         "xaxis": "x",
         "y": [
          14.093959731543624
         ],
         "yaxis": "y"
        },
        {
         "alignmentgroup": "True",
         "bingroup": "x",
         "histfunc": "sum",
         "hovertemplate": "Calibre=12<br>Calibre Name=%{x}<br>sum of Percentual=%{y}<extra></extra>",
         "legendgroup": "12",
         "marker": {
          "color": "#FF6692",
          "pattern": {
           "shape": ""
          }
         },
         "name": "12",
         "offsetgroup": "12",
         "orientation": "v",
         "showlegend": true,
         "type": "histogram",
         "x": [
          "12"
         ],
         "xaxis": "x",
         "y": [
          8.053691275167784
         ],
         "yaxis": "y"
        }
       ],
       "layout": {
        "barmode": "relative",
        "height": 400,
        "legend": {
         "title": {
          "text": "Calibre"
         },
         "tracegroupgap": 0
        },
        "margin": {
         "t": 60
        },
        "template": {
         "data": {
          "bar": [
           {
            "error_x": {
             "color": "#2a3f5f"
            },
            "error_y": {
             "color": "#2a3f5f"
            },
            "marker": {
             "line": {
              "color": "#E5ECF6",
              "width": 0.5
             },
             "pattern": {
              "fillmode": "overlay",
              "size": 10,
              "solidity": 0.2
             }
            },
            "type": "bar"
           }
          ],
          "barpolar": [
           {
            "marker": {
             "line": {
              "color": "#E5ECF6",
              "width": 0.5
             },
             "pattern": {
              "fillmode": "overlay",
              "size": 10,
              "solidity": 0.2
             }
            },
            "type": "barpolar"
           }
          ],
          "carpet": [
           {
            "aaxis": {
             "endlinecolor": "#2a3f5f",
             "gridcolor": "white",
             "linecolor": "white",
             "minorgridcolor": "white",
             "startlinecolor": "#2a3f5f"
            },
            "baxis": {
             "endlinecolor": "#2a3f5f",
             "gridcolor": "white",
             "linecolor": "white",
             "minorgridcolor": "white",
             "startlinecolor": "#2a3f5f"
            },
            "type": "carpet"
           }
          ],
          "choropleth": [
           {
            "colorbar": {
             "outlinewidth": 0,
             "ticks": ""
            },
            "type": "choropleth"
           }
          ],
          "contour": [
           {
            "colorbar": {
             "outlinewidth": 0,
             "ticks": ""
            },
            "colorscale": [
             [
              0,
              "#0d0887"
             ],
             [
              0.1111111111111111,
              "#46039f"
             ],
             [
              0.2222222222222222,
              "#7201a8"
             ],
             [
              0.3333333333333333,
              "#9c179e"
             ],
             [
              0.4444444444444444,
              "#bd3786"
             ],
             [
              0.5555555555555556,
              "#d8576b"
             ],
             [
              0.6666666666666666,
              "#ed7953"
             ],
             [
              0.7777777777777778,
              "#fb9f3a"
             ],
             [
              0.8888888888888888,
              "#fdca26"
             ],
             [
              1,
              "#f0f921"
             ]
            ],
            "type": "contour"
           }
          ],
          "contourcarpet": [
           {
            "colorbar": {
             "outlinewidth": 0,
             "ticks": ""
            },
            "type": "contourcarpet"
           }
          ],
          "heatmap": [
           {
            "colorbar": {
             "outlinewidth": 0,
             "ticks": ""
            },
            "colorscale": [
             [
              0,
              "#0d0887"
             ],
             [
              0.1111111111111111,
              "#46039f"
             ],
             [
              0.2222222222222222,
              "#7201a8"
             ],
             [
              0.3333333333333333,
              "#9c179e"
             ],
             [
              0.4444444444444444,
              "#bd3786"
             ],
             [
              0.5555555555555556,
              "#d8576b"
             ],
             [
              0.6666666666666666,
              "#ed7953"
             ],
             [
              0.7777777777777778,
              "#fb9f3a"
             ],
             [
              0.8888888888888888,
              "#fdca26"
             ],
             [
              1,
              "#f0f921"
             ]
            ],
            "type": "heatmap"
           }
          ],
          "heatmapgl": [
           {
            "colorbar": {
             "outlinewidth": 0,
             "ticks": ""
            },
            "colorscale": [
             [
              0,
              "#0d0887"
             ],
             [
              0.1111111111111111,
              "#46039f"
             ],
             [
              0.2222222222222222,
              "#7201a8"
             ],
             [
              0.3333333333333333,
              "#9c179e"
             ],
             [
              0.4444444444444444,
              "#bd3786"
             ],
             [
              0.5555555555555556,
              "#d8576b"
             ],
             [
              0.6666666666666666,
              "#ed7953"
             ],
             [
              0.7777777777777778,
              "#fb9f3a"
             ],
             [
              0.8888888888888888,
              "#fdca26"
             ],
             [
              1,
              "#f0f921"
             ]
            ],
            "type": "heatmapgl"
           }
          ],
          "histogram": [
           {
            "marker": {
             "pattern": {
              "fillmode": "overlay",
              "size": 10,
              "solidity": 0.2
             }
            },
            "type": "histogram"
           }
          ],
          "histogram2d": [
           {
            "colorbar": {
             "outlinewidth": 0,
             "ticks": ""
            },
            "colorscale": [
             [
              0,
              "#0d0887"
             ],
             [
              0.1111111111111111,
              "#46039f"
             ],
             [
              0.2222222222222222,
              "#7201a8"
             ],
             [
              0.3333333333333333,
              "#9c179e"
             ],
             [
              0.4444444444444444,
              "#bd3786"
             ],
             [
              0.5555555555555556,
              "#d8576b"
             ],
             [
              0.6666666666666666,
              "#ed7953"
             ],
             [
              0.7777777777777778,
              "#fb9f3a"
             ],
             [
              0.8888888888888888,
              "#fdca26"
             ],
             [
              1,
              "#f0f921"
             ]
            ],
            "type": "histogram2d"
           }
          ],
          "histogram2dcontour": [
           {
            "colorbar": {
             "outlinewidth": 0,
             "ticks": ""
            },
            "colorscale": [
             [
              0,
              "#0d0887"
             ],
             [
              0.1111111111111111,
              "#46039f"
             ],
             [
              0.2222222222222222,
              "#7201a8"
             ],
             [
              0.3333333333333333,
              "#9c179e"
             ],
             [
              0.4444444444444444,
              "#bd3786"
             ],
             [
              0.5555555555555556,
              "#d8576b"
             ],
             [
              0.6666666666666666,
              "#ed7953"
             ],
             [
              0.7777777777777778,
              "#fb9f3a"
             ],
             [
              0.8888888888888888,
              "#fdca26"
             ],
             [
              1,
              "#f0f921"
             ]
            ],
            "type": "histogram2dcontour"
           }
          ],
          "mesh3d": [
           {
            "colorbar": {
             "outlinewidth": 0,
             "ticks": ""
            },
            "type": "mesh3d"
           }
          ],
          "parcoords": [
           {
            "line": {
             "colorbar": {
              "outlinewidth": 0,
              "ticks": ""
             }
            },
            "type": "parcoords"
           }
          ],
          "pie": [
           {
            "automargin": true,
            "type": "pie"
           }
          ],
          "scatter": [
           {
            "marker": {
             "colorbar": {
              "outlinewidth": 0,
              "ticks": ""
             }
            },
            "type": "scatter"
           }
          ],
          "scatter3d": [
           {
            "line": {
             "colorbar": {
              "outlinewidth": 0,
              "ticks": ""
             }
            },
            "marker": {
             "colorbar": {
              "outlinewidth": 0,
              "ticks": ""
             }
            },
            "type": "scatter3d"
           }
          ],
          "scattercarpet": [
           {
            "marker": {
             "colorbar": {
              "outlinewidth": 0,
              "ticks": ""
             }
            },
            "type": "scattercarpet"
           }
          ],
          "scattergeo": [
           {
            "marker": {
             "colorbar": {
              "outlinewidth": 0,
              "ticks": ""
             }
            },
            "type": "scattergeo"
           }
          ],
          "scattergl": [
           {
            "marker": {
             "colorbar": {
              "outlinewidth": 0,
              "ticks": ""
             }
            },
            "type": "scattergl"
           }
          ],
          "scattermapbox": [
           {
            "marker": {
             "colorbar": {
              "outlinewidth": 0,
              "ticks": ""
             }
            },
            "type": "scattermapbox"
           }
          ],
          "scatterpolar": [
           {
            "marker": {
             "colorbar": {
              "outlinewidth": 0,
              "ticks": ""
             }
            },
            "type": "scatterpolar"
           }
          ],
          "scatterpolargl": [
           {
            "marker": {
             "colorbar": {
              "outlinewidth": 0,
              "ticks": ""
             }
            },
            "type": "scatterpolargl"
           }
          ],
          "scatterternary": [
           {
            "marker": {
             "colorbar": {
              "outlinewidth": 0,
              "ticks": ""
             }
            },
            "type": "scatterternary"
           }
          ],
          "surface": [
           {
            "colorbar": {
             "outlinewidth": 0,
             "ticks": ""
            },
            "colorscale": [
             [
              0,
              "#0d0887"
             ],
             [
              0.1111111111111111,
              "#46039f"
             ],
             [
              0.2222222222222222,
              "#7201a8"
             ],
             [
              0.3333333333333333,
              "#9c179e"
             ],
             [
              0.4444444444444444,
              "#bd3786"
             ],
             [
              0.5555555555555556,
              "#d8576b"
             ],
             [
              0.6666666666666666,
              "#ed7953"
             ],
             [
              0.7777777777777778,
              "#fb9f3a"
             ],
             [
              0.8888888888888888,
              "#fdca26"
             ],
             [
              1,
              "#f0f921"
             ]
            ],
            "type": "surface"
           }
          ],
          "table": [
           {
            "cells": {
             "fill": {
              "color": "#EBF0F8"
             },
             "line": {
              "color": "white"
             }
            },
            "header": {
             "fill": {
              "color": "#C8D4E3"
             },
             "line": {
              "color": "white"
             }
            },
            "type": "table"
           }
          ]
         },
         "layout": {
          "annotationdefaults": {
           "arrowcolor": "#2a3f5f",
           "arrowhead": 0,
           "arrowwidth": 1
          },
          "autotypenumbers": "strict",
          "coloraxis": {
           "colorbar": {
            "outlinewidth": 0,
            "ticks": ""
           }
          },
          "colorscale": {
           "diverging": [
            [
             0,
             "#8e0152"
            ],
            [
             0.1,
             "#c51b7d"
            ],
            [
             0.2,
             "#de77ae"
            ],
            [
             0.3,
             "#f1b6da"
            ],
            [
             0.4,
             "#fde0ef"
            ],
            [
             0.5,
             "#f7f7f7"
            ],
            [
             0.6,
             "#e6f5d0"
            ],
            [
             0.7,
             "#b8e186"
            ],
            [
             0.8,
             "#7fbc41"
            ],
            [
             0.9,
             "#4d9221"
            ],
            [
             1,
             "#276419"
            ]
           ],
           "sequential": [
            [
             0,
             "#0d0887"
            ],
            [
             0.1111111111111111,
             "#46039f"
            ],
            [
             0.2222222222222222,
             "#7201a8"
            ],
            [
             0.3333333333333333,
             "#9c179e"
            ],
            [
             0.4444444444444444,
             "#bd3786"
            ],
            [
             0.5555555555555556,
             "#d8576b"
            ],
            [
             0.6666666666666666,
             "#ed7953"
            ],
            [
             0.7777777777777778,
             "#fb9f3a"
            ],
            [
             0.8888888888888888,
             "#fdca26"
            ],
            [
             1,
             "#f0f921"
            ]
           ],
           "sequentialminus": [
            [
             0,
             "#0d0887"
            ],
            [
             0.1111111111111111,
             "#46039f"
            ],
            [
             0.2222222222222222,
             "#7201a8"
            ],
            [
             0.3333333333333333,
             "#9c179e"
            ],
            [
             0.4444444444444444,
             "#bd3786"
            ],
            [
             0.5555555555555556,
             "#d8576b"
            ],
            [
             0.6666666666666666,
             "#ed7953"
            ],
            [
             0.7777777777777778,
             "#fb9f3a"
            ],
            [
             0.8888888888888888,
             "#fdca26"
            ],
            [
             1,
             "#f0f921"
            ]
           ]
          },
          "colorway": [
           "#636efa",
           "#EF553B",
           "#00cc96",
           "#ab63fa",
           "#FFA15A",
           "#19d3f3",
           "#FF6692",
           "#B6E880",
           "#FF97FF",
           "#FECB52"
          ],
          "font": {
           "color": "#2a3f5f"
          },
          "geo": {
           "bgcolor": "white",
           "lakecolor": "white",
           "landcolor": "#E5ECF6",
           "showlakes": true,
           "showland": true,
           "subunitcolor": "white"
          },
          "hoverlabel": {
           "align": "left"
          },
          "hovermode": "closest",
          "mapbox": {
           "style": "light"
          },
          "paper_bgcolor": "white",
          "plot_bgcolor": "#E5ECF6",
          "polar": {
           "angularaxis": {
            "gridcolor": "white",
            "linecolor": "white",
            "ticks": ""
           },
           "bgcolor": "#E5ECF6",
           "radialaxis": {
            "gridcolor": "white",
            "linecolor": "white",
            "ticks": ""
           }
          },
          "scene": {
           "xaxis": {
            "backgroundcolor": "#E5ECF6",
            "gridcolor": "white",
            "gridwidth": 2,
            "linecolor": "white",
            "showbackground": true,
            "ticks": "",
            "zerolinecolor": "white"
           },
           "yaxis": {
            "backgroundcolor": "#E5ECF6",
            "gridcolor": "white",
            "gridwidth": 2,
            "linecolor": "white",
            "showbackground": true,
            "ticks": "",
            "zerolinecolor": "white"
           },
           "zaxis": {
            "backgroundcolor": "#E5ECF6",
            "gridcolor": "white",
            "gridwidth": 2,
            "linecolor": "white",
            "showbackground": true,
            "ticks": "",
            "zerolinecolor": "white"
           }
          },
          "shapedefaults": {
           "line": {
            "color": "#2a3f5f"
           }
          },
          "ternary": {
           "aaxis": {
            "gridcolor": "white",
            "linecolor": "white",
            "ticks": ""
           },
           "baxis": {
            "gridcolor": "white",
            "linecolor": "white",
            "ticks": ""
           },
           "bgcolor": "#E5ECF6",
           "caxis": {
            "gridcolor": "white",
            "linecolor": "white",
            "ticks": ""
           }
          },
          "title": {
           "x": 0.05
          },
          "xaxis": {
           "automargin": true,
           "gridcolor": "white",
           "linecolor": "white",
           "ticks": "",
           "title": {
            "standoff": 15
           },
           "zerolinecolor": "white",
           "zerolinewidth": 2
          },
          "yaxis": {
           "automargin": true,
           "gridcolor": "white",
           "linecolor": "white",
           "ticks": "",
           "title": {
            "standoff": 15
           },
           "zerolinecolor": "white",
           "zerolinewidth": 2
          }
         }
        },
        "width": 600,
        "xaxis": {
         "anchor": "y",
         "domain": [
          0,
          1
         ],
         "title": {
          "text": "Calibre"
         }
        },
        "yaxis": {
         "anchor": "x",
         "domain": [
          0,
          1
         ],
         "title": {
          "text": "Percentual"
         }
        }
       }
      }
     },
     "metadata": {},
     "output_type": "display_data"
    }
   ],
   "source": [
    "fig = px.histogram(b, x = 'Calibre Name',y = 'Percentual', color = 'Calibre')\n",
    "fig.update_layout(height = 400, width = 600)\n",
    "fig.update_yaxes(title = 'Percentual')\n",
    "fig.update_xaxes(title = 'Calibre')"
   ]
  },
  {
   "cell_type": "code",
   "execution_count": 315,
   "metadata": {},
   "outputs": [],
   "source": [
    "caixotes_hora_embaladeiras = round((caixotes*0.0416667)/ritmo_talo,0)\n",
    "\n",
    "caixotes_hora_talo = round((caixotes*0.0416667)/ritmo_embaladeira,0)\n",
    "\n",
    "toneladas_horas = round(((b['Caixas_total'].sum()*4.05)/1000)/(b['Horas_4kg'].sum()/embaladeira),2)"
   ]
  },
  {
   "cell_type": "code",
   "execution_count": 333,
   "metadata": {},
   "outputs": [],
   "source": [
    "#################"
   ]
  },
  {
   "cell_type": "code",
   "execution_count": 340,
   "metadata": {},
   "outputs": [],
   "source": [
    "#!pip install streamlit"
   ]
  },
  {
   "cell_type": "code",
   "execution_count": 341,
   "metadata": {},
   "outputs": [],
   "source": [
    "import streamlit as st"
   ]
  },
  {
   "cell_type": "code",
   "execution_count": null,
   "metadata": {},
   "outputs": [],
   "source": []
  },
  {
   "cell_type": "code",
   "execution_count": null,
   "metadata": {},
   "outputs": [],
   "source": []
  },
  {
   "cell_type": "code",
   "execution_count": null,
   "metadata": {},
   "outputs": [],
   "source": []
  },
  {
   "cell_type": "code",
   "execution_count": null,
   "metadata": {},
   "outputs": [],
   "source": []
  },
  {
   "cell_type": "code",
   "execution_count": null,
   "metadata": {},
   "outputs": [],
   "source": []
  },
  {
   "cell_type": "code",
   "execution_count": null,
   "metadata": {},
   "outputs": [],
   "source": []
  },
  {
   "cell_type": "code",
   "execution_count": null,
   "metadata": {},
   "outputs": [],
   "source": []
  },
  {
   "cell_type": "code",
   "execution_count": null,
   "metadata": {},
   "outputs": [],
   "source": []
  }
 ],
 "metadata": {
  "interpreter": {
   "hash": "b3ba2566441a7c06988d0923437866b63cedc61552a5af99d1f4fb67d367b25f"
  },
  "kernelspec": {
   "display_name": "Python 3.9.7 ('base')",
   "language": "python",
   "name": "python3"
  },
  "language_info": {
   "codemirror_mode": {
    "name": "ipython",
    "version": 3
   },
   "file_extension": ".py",
   "mimetype": "text/x-python",
   "name": "python",
   "nbconvert_exporter": "python",
   "pygments_lexer": "ipython3",
   "version": "3.9.7"
  },
  "orig_nbformat": 4
 },
 "nbformat": 4,
 "nbformat_minor": 2
}
